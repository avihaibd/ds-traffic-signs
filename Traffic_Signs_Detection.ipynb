{
  "cells": [
    {
      "cell_type": "markdown",
      "metadata": {
        "id": "gM6hFhZLHHbk"
      },
      "source": [
        "# Resources\n",
        "\n",
        "https://data-flair.training/blogs/python-project-traffic-signs-recognition/\n",
        "https://www.kaggle.com/datasets/meowmeowmeowmeowmeow/gtsrb-german-traffic-sign\n",
        "\n",
        "\n",
        "## Current status\n",
        "- VGG, Resnet, based on https://www.kaggle.com/code/hivasi/augmentation-adam-optimiser-vgg-baseline\n",
        "- EfficientNet, based on https://www.kaggle.com/code/sounaksarkar/german-traffic-sign-benchmark-classification"
      ]
    },
    {
      "cell_type": "markdown",
      "metadata": {
        "id": "z9XifF1DICpP"
      },
      "source": [
        "# Setup"
      ]
    },
    {
      "cell_type": "markdown",
      "metadata": {
        "id": "WNcShLgdK9xT"
      },
      "source": [
        "## Load libraries"
      ]
    },
    {
      "cell_type": "code",
      "execution_count": 3,
      "metadata": {
        "id": "KgG2stw4IEkB"
      },
      "outputs": [
        {
          "ename": "ModuleNotFoundError",
          "evalue": "No module named 'numpy'",
          "output_type": "error",
          "traceback": [
            "\u001b[1;31m---------------------------------------------------------------------------\u001b[0m",
            "\u001b[1;31mModuleNotFoundError\u001b[0m                       Traceback (most recent call last)",
            "\u001b[1;32mc:\\dev\\studies\\ds-traffic-signs\\Traffic_Signs_Detection.ipynb Cell 4\u001b[0m in \u001b[0;36m<cell line: 4>\u001b[1;34m()\u001b[0m\n\u001b[0;32m      <a href='vscode-notebook-cell:/c%3A/dev/studies/ds-traffic-signs/Traffic_Signs_Detection.ipynb#W3sZmlsZQ%3D%3D?line=1'>2</a>\u001b[0m \u001b[39mimport\u001b[39;00m \u001b[39mos\u001b[39;00m\n\u001b[0;32m      <a href='vscode-notebook-cell:/c%3A/dev/studies/ds-traffic-signs/Traffic_Signs_Detection.ipynb#W3sZmlsZQ%3D%3D?line=2'>3</a>\u001b[0m \u001b[39mimport\u001b[39;00m \u001b[39mpathlib\u001b[39;00m\n\u001b[1;32m----> <a href='vscode-notebook-cell:/c%3A/dev/studies/ds-traffic-signs/Traffic_Signs_Detection.ipynb#W3sZmlsZQ%3D%3D?line=3'>4</a>\u001b[0m \u001b[39mimport\u001b[39;00m \u001b[39mnumpy\u001b[39;00m \u001b[39mas\u001b[39;00m \u001b[39mnp\u001b[39;00m\n\u001b[0;32m      <a href='vscode-notebook-cell:/c%3A/dev/studies/ds-traffic-signs/Traffic_Signs_Detection.ipynb#W3sZmlsZQ%3D%3D?line=4'>5</a>\u001b[0m \u001b[39mimport\u001b[39;00m \u001b[39mmatplotlib\u001b[39;00m\u001b[39m.\u001b[39;00m\u001b[39mpyplot\u001b[39;00m \u001b[39mas\u001b[39;00m \u001b[39mplt\u001b[39;00m\n\u001b[0;32m      <a href='vscode-notebook-cell:/c%3A/dev/studies/ds-traffic-signs/Traffic_Signs_Detection.ipynb#W3sZmlsZQ%3D%3D?line=5'>6</a>\u001b[0m \u001b[39mimport\u001b[39;00m \u001b[39mpandas\u001b[39;00m \u001b[39mas\u001b[39;00m \u001b[39mpd\u001b[39;00m\n",
            "\u001b[1;31mModuleNotFoundError\u001b[0m: No module named 'numpy'"
          ]
        }
      ],
      "source": [
        "import datetime\n",
        "import os\n",
        "import pathlib\n",
        "import numpy as np\n",
        "import matplotlib.pyplot as plt\n",
        "import pandas as pd\n",
        "from sklearn.model_selection import train_test_split\n",
        "import tensorflow as tf\n",
        "from tensorflow.keras.preprocessing import image\n",
        "import cv2\n",
        "from PIL import Image\n",
        "from tensorflow.python import summary"
      ]
    },
    {
      "cell_type": "markdown",
      "metadata": {
        "id": "VMC9AhS6H3EH"
      },
      "source": [
        "## Load extensions"
      ]
    },
    {
      "cell_type": "code",
      "execution_count": 4,
      "metadata": {
        "colab": {
          "base_uri": "https://localhost:8080/"
        },
        "id": "Iq8-KkWPHx3l",
        "outputId": "222fd4e2-b23d-48ba-b402-ba452d092572"
      },
      "outputs": [
        {
          "name": "stdout",
          "output_type": "stream",
          "text": [
            "The google.colab.data_table extension is already loaded. To reload it, use:\n",
            "  %reload_ext google.colab.data_table\n",
            "The tensorboard extension is already loaded. To reload it, use:\n",
            "  %reload_ext tensorboard\n"
          ]
        }
      ],
      "source": [
        "# Display matplotlib plots inline\n",
        "%matplotlib inline\n",
        "\n",
        "# Format tables printed to the screen (don't put comment on the same line as the\n",
        "%load_ext google.colab.data_table\n",
        "\n",
        "# Load the TensorBoard notebook extension\n",
        "%load_ext tensorboard"
      ]
    },
    {
      "cell_type": "markdown",
      "metadata": {
        "id": "en-roCpVLocG"
      },
      "source": [
        "# Load and process data"
      ]
    },
    {
      "cell_type": "markdown",
      "metadata": {
        "id": "aW2afvWfIQlN"
      },
      "source": [
        "## Initialize variables\n",
        "\n",
        "Initialize global variables and set seed for keras related libraries"
      ]
    },
    {
      "cell_type": "code",
      "execution_count": 14,
      "metadata": {
        "id": "_pkBr2AYINtl"
      },
      "outputs": [],
      "source": [
        "data_dir = '.'\n",
        "IMG_HEIGHT = 60\n",
        "IMG_WIDTH = 60\n",
        "IMAGE_SHAPE=(IMG_HEIGHT, IMG_WIDTH)\n",
        "SEED = 19121\n",
        "tf.keras.utils.set_random_seed(SEED)"
      ]
    },
    {
      "cell_type": "markdown",
      "metadata": {
        "id": "lgXL9QrsEkLc"
      },
      "source": [
        "## Load images metadata"
      ]
    },
    {
      "cell_type": "code",
      "execution_count": 4,
      "metadata": {
        "colab": {
          "base_uri": "https://localhost:8080/"
        },
        "id": "2BW2mrKCI294",
        "outputId": "545f95da-0c09-4566-96d8-9bb9c77766ee"
      },
      "outputs": [
        {
          "ename": "ModuleNotFoundError",
          "evalue": "No module named 'pandas'",
          "output_type": "error",
          "traceback": [
            "\u001b[1;31m---------------------------------------------------------------------------\u001b[0m",
            "\u001b[1;31mModuleNotFoundError\u001b[0m                       Traceback (most recent call last)",
            "\u001b[1;32mc:\\dev\\studies\\ds-traffic-signs\\Traffic_Signs_Detection.ipynb Cell 11\u001b[0m in \u001b[0;36m<cell line: 1>\u001b[1;34m()\u001b[0m\n\u001b[1;32m----> <a href='vscode-notebook-cell:/c%3A/dev/studies/ds-traffic-signs/Traffic_Signs_Detection.ipynb#X13sZmlsZQ%3D%3D?line=0'>1</a>\u001b[0m \u001b[39mimport\u001b[39;00m \u001b[39mpandas\u001b[39;00m \u001b[39mas\u001b[39;00m \u001b[39mpd\u001b[39;00m\n\u001b[0;32m      <a href='vscode-notebook-cell:/c%3A/dev/studies/ds-traffic-signs/Traffic_Signs_Detection.ipynb#X13sZmlsZQ%3D%3D?line=1'>2</a>\u001b[0m df \u001b[39m=\u001b[39m pd\u001b[39m.\u001b[39mread_csv(\u001b[39m'\u001b[39m\u001b[39mTrain.csv\u001b[39m\u001b[39m'\u001b[39m)\n\u001b[0;32m      <a href='vscode-notebook-cell:/c%3A/dev/studies/ds-traffic-signs/Traffic_Signs_Detection.ipynb#X13sZmlsZQ%3D%3D?line=2'>3</a>\u001b[0m df_test \u001b[39m=\u001b[39m pd\u001b[39m.\u001b[39mread_csv(\u001b[39m'\u001b[39m\u001b[39mTest.csv\u001b[39m\u001b[39m'\u001b[39m)\n",
            "\u001b[1;31mModuleNotFoundError\u001b[0m: No module named 'pandas'"
          ]
        }
      ],
      "source": [
        "import pandas as pd\n",
        "df = pd.read_csv('Train.csv')\n",
        "df_test = pd.read_csv('Test.csv')\n",
        "meta = pd.read_csv('Meta.csv')\n",
        "class_names = pd.read_csv('class_names.csv')\n",
        "NUM_CLASSES = class_names.shape[0]\n",
        "NUM_CLASSES"
      ]
    },
    {
      "cell_type": "markdown",
      "metadata": {
        "id": "vLSXSumpCK94"
      },
      "source": [
        "### Identify classes by name\n",
        "Provide description for each of the traffic signs"
      ]
    },
    {
      "cell_type": "code",
      "execution_count": 1,
      "metadata": {
        "id": "WbTf54a-CJiW"
      },
      "outputs": [],
      "source": [
        "CLASS_NAMES = {\n",
        "  0:'Speed limit (20km/h)',\n",
        "  1:'Speed limit (30km/h)', \n",
        "  2:'Speed limit (50km/h)', \n",
        "  3:'Speed limit (60km/h)', \n",
        "  4:'Speed limit (70km/h)', \n",
        "  5:'Speed limit (80km/h)', \n",
        "  6:'End of speed limit (80km/h)', \n",
        "  7:'Speed limit (100km/h)', \n",
        "  8:'Speed limit (120km/h)', \n",
        "  9:'No passing', \n",
        "  10:'No passing veh over 3.5 tons', \n",
        "  11:'Right-of-way at intersection', \n",
        "  12:'Priority road', \n",
        "  13:'Yield', \n",
        "  14:'Stop', \n",
        "  15:'No vehicles', \n",
        "  16:'Veh > 3.5 tons prohibited', \n",
        "  17:'No entry', \n",
        "  18:'General caution', \n",
        "  19:'Dangerous curve left', \n",
        "  20:'Dangerous curve right', \n",
        "  21:'Double curve', \n",
        "  22:'Bumpy road', \n",
        "  23:'Slippery road', \n",
        "  24:'Road narrows on the right', \n",
        "  25:'Road work', \n",
        "  26:'Traffic signals', \n",
        "  27:'Pedestrians', \n",
        "  28:'Children crossing', \n",
        "  29:'Bicycles crossing', \n",
        "  30:'Beware of ice/snow',\n",
        "  31:'Wild animals crossing', \n",
        "  32:'End speed + passing limits', \n",
        "  33:'Turn right ahead', \n",
        "  34:'Turn left ahead', \n",
        "  35:'Ahead only', \n",
        "  36:'Go straight or right', \n",
        "  37:'Go straight or left', \n",
        "  38:'Keep right', \n",
        "  39:'Keep left', \n",
        "  40:'Roundabout mandatory', \n",
        "  41:'End of no passing', \n",
        "  42:'End no passing veh > 3.5 tons' \n",
        "}\n",
        "with open(\"class_names.csv\", 'w') as f:\n",
        "  for k, v in CLASS_NAMES.items():\n",
        "    f.write(f'{k},\"{v}\"\\n')"
      ]
    },
    {
      "cell_type": "markdown",
      "metadata": {
        "id": "dFna0qfhMRuA"
      },
      "source": [
        "## Load Images"
      ]
    },
    {
      "cell_type": "code",
      "execution_count": 2,
      "metadata": {
        "id": "JqB3-fErD2at"
      },
      "outputs": [],
      "source": [
        "# load and iterate training dataset\n",
        "train_df = tf.keras.utils.load_images_from_directory(f'${data_dir}/Train/', class_mode='binary', batch_size=64, subset='training')\n",
        "val_df = tf.keras.utils.load_images_from_directory(f'${data_dir}/Train/', class_mode='binary', batch_size=64, subset='validation')\n",
        "\n",
        "# load and iterate test dataset\n",
        "test_df = tf.keras.utils.load_images_from_directory(f'{data_dir}/Test/', class_mode='binary', batch_size=64)\n",
        "\n",
        "# load meta dataset to display actual sign drawings\n",
        "meta_df = tf.keras.utils.load_images_from_directory(f'{data_dir}/Meta/', class_mode='binary', batch_size=64)"
      ]
    },
    {
      "cell_type": "code",
      "execution_count": null,
      "metadata": {
        "colab": {
          "base_uri": "https://localhost:8080/",
          "height": 302
        },
        "id": "hIlakKluNpYV",
        "outputId": "a2cdf33a-8817-44ed-fe4c-83aeedf18f49"
      },
      "outputs": [
        {
          "name": "stdout",
          "output_type": "stream",
          "text": [
            "Traffic Sign: 20 - Dangerous curve right\n"
          ]
        },
        {
          "data": {
            "text/plain": [
              "<matplotlib.image.AxesImage at 0x7f0784d6d6d0>"
            ]
          },
          "execution_count": 143,
          "metadata": {},
          "output_type": "execute_result"
        },
        {
          "data": {
            "image/png": "[encoded data removed]",
            "text/plain": [
              "<Figure size 432x288 with 1 Axes>"
            ]
          },
          "metadata": {},
          "output_type": "display_data"
        }
      ],
      "source": [
        "s = df.sample()\n",
        "class_id = s['ClassId'].item()\n",
        "image_path = s['Path'].item()\n",
        "img = Image.open(os.path.join(data_dir, image_path))\n",
        "print(f'Traffic Sign: {class_id} - {CLASS_NAMES[class_id]}')\n",
        "plt.imshow(img)"
      ]
    },
    {
      "cell_type": "code",
      "execution_count": null,
      "metadata": {
        "colab": {
          "base_uri": "https://localhost:8080/",
          "height": 1000
        },
        "id": "SgmIZXh1MUne",
        "outputId": "f200e192-8b00-468d-dfc4-46e296e87e91"
      },
      "outputs": [
        {
          "data": {
            "text/html": [
              "\n",
              "<style>\n",
              "    /* Turns off some styling */\n",
              "    progress {\n",
              "        /* gets rid of default border in Firefox and Opera. */\n",
              "        border: none;\n",
              "        /* Needs to be in here for Safari polyfill so background images work as expected. */\n",
              "        background-size: auto;\n",
              "    }\n",
              "    progress:not([value]), progress:not([value])::-webkit-progress-bar {\n",
              "        background: repeating-linear-gradient(45deg, #7e7e7e, #7e7e7e 10px, #5c5c5c 10px, #5c5c5c 20px);\n",
              "    }\n",
              "    .progress-bar-interrupted, .progress-bar-interrupted::-webkit-progress-bar {\n",
              "        background: #F44336;\n",
              "    }\n",
              "</style>\n"
            ],
            "text/plain": [
              "<IPython.core.display.HTML object>"
            ]
          },
          "metadata": {},
          "output_type": "display_data"
        },
        {
          "data": {
            "text/html": [
              "Loaded images for traffic sign 0 - Speed limit (20km/h)<p>Loaded images for traffic sign 1 - Speed limit (30km/h)<p>Loaded images for traffic sign 2 - Speed limit (50km/h)<p>Loaded images for traffic sign 3 - Speed limit (60km/h)<p>Loaded images for traffic sign 4 - Speed limit (70km/h)<p>Loaded images for traffic sign 5 - Speed limit (80km/h)<p>Loaded images for traffic sign 6 - End of speed limit (80km/h)<p>Loaded images for traffic sign 7 - Speed limit (100km/h)<p>Loaded images for traffic sign 8 - Speed limit (120km/h)<p>Loaded images for traffic sign 9 - No passing<p>Loaded images for traffic sign 10 - No passing veh over 3.5 tons<p>Loaded images for traffic sign 11 - Right-of-way at intersection<p>Loaded images for traffic sign 12 - Priority road<p>Loaded images for traffic sign 13 - Yield<p>Loaded images for traffic sign 14 - Stop<p>Loaded images for traffic sign 15 - No vehicles<p>Loaded images for traffic sign 16 - Veh > 3.5 tons prohibited<p>Loaded images for traffic sign 17 - No entry<p>Loaded images for traffic sign 18 - General caution<p>Loaded images for traffic sign 19 - Dangerous curve left<p>Loaded images for traffic sign 20 - Dangerous curve right<p>Loaded images for traffic sign 21 - Double curve<p>Loaded images for traffic sign 22 - Bumpy road<p>Loaded images for traffic sign 23 - Slippery road<p>Loaded images for traffic sign 24 - Road narrows on the right<p>Loaded images for traffic sign 25 - Road work<p>Loaded images for traffic sign 26 - Traffic signals<p>Loaded images for traffic sign 27 - Pedestrians<p>Loaded images for traffic sign 28 - Children crossing<p>Loaded images for traffic sign 29 - Bicycles crossing<p>Loaded images for traffic sign 30 - Beware of ice/snow<p>Loaded images for traffic sign 31 - Wild animals crossing<p>Loaded images for traffic sign 32 - End speed + passing limits<p>Loaded images for traffic sign 33 - Turn right ahead<p>Loaded images for traffic sign 34 - Turn left ahead<p>Loaded images for traffic sign 35 - Ahead only<p>Loaded images for traffic sign 36 - Go straight or right<p>Loaded images for traffic sign 37 - Go straight or left<p>Loaded images for traffic sign 38 - Keep right<p>Loaded images for traffic sign 39 - Keep left<p>Loaded images for traffic sign 40 - Roundabout mandatory<p>Loaded images for traffic sign 41 - End of no passing<p>Loaded images for traffic sign 42 - End no passing veh > 3.5 tons"
            ],
            "text/plain": [
              "<IPython.core.display.HTML object>"
            ]
          },
          "metadata": {},
          "output_type": "display_data"
        },
        {
          "name": "stdout",
          "output_type": "stream",
          "text": [
            "(39209, 60, 60, 3) (39209,)\n"
          ]
        }
      ],
      "source": [
        "from fastprogress import master_bar, progress_bar\n",
        "\n",
        "# Reading the input images and putting them into a numpy array\n",
        "image_data=[]\n",
        "image_labels=[]\n",
        "\n",
        "channels = 3\n",
        "n_inputs = IMG_HEIGHT * IMG_WIDTH * channels\n",
        "\n",
        "mb = master_bar(range(NUM_CLASSES))\n",
        "for i in mb:\n",
        "    parent_path = f\"{data_dir}/Train/{i}/\"\n",
        "    class_images=os.listdir(parent_path)\n",
        "    for image_name in progress_bar(class_images, parent=mb):\n",
        "      image_path = parent_path+image_name\n",
        "      mb.child.comment = f'Loading {image_path}'\n",
        "      image = cv2.imread(image_path)\n",
        "      image_from_array = Image.fromarray(image, 'RGB')\n",
        "      size_image = image_from_array.resize((IMG_HEIGHT, IMG_WIDTH))\n",
        "      image_data.append(np.array(size_image))\n",
        "      image_labels.append(i)\n",
        "    mb.main_bar.comment = f'Loading images for traffic sign {i} - {CLASS_NAMES[i]}'\n",
        "    mb.write(f'Loaded images for traffic sign {i} - {CLASS_NAMES[i]}')\n",
        "            \n",
        "image_data=np.array(image_data)\n",
        "image_labels=np.array(image_labels)\n",
        "print(image_data.shape, image_labels.shape)"
      ]
    },
    {
      "cell_type": "markdown",
      "metadata": {
        "id": "gYkmRQ9TZ9uU"
      },
      "source": [
        "## Prepare data"
      ]
    },
    {
      "cell_type": "markdown",
      "metadata": {
        "id": "TFPmz8MIaB4p"
      },
      "source": [
        "### Randomize the order of the input images\n"
      ]
    },
    {
      "cell_type": "code",
      "execution_count": null,
      "metadata": {
        "id": "c4CISlKjY6Oe"
      },
      "outputs": [],
      "source": [
        "shuffle_indexes = np.arange(image_data.shape[0])\n",
        "np.random.shuffle(shuffle_indexes)\n",
        "image_data = image_data[shuffle_indexes]\n",
        "image_labels = image_labels[shuffle_indexes]"
      ]
    },
    {
      "cell_type": "markdown",
      "metadata": {
        "id": "OsQF04sBaHDE"
      },
      "source": [
        "### dividing into validation and training"
      ]
    },
    {
      "cell_type": "code",
      "execution_count": null,
      "metadata": {
        "id": "xyy_PyCVZ4xt"
      },
      "outputs": [],
      "source": [
        "X_train, X_val, y_train, y_val = train_test_split(image_data, image_labels, test_size=0.3, random_state=42, shuffle=True)\n",
        "\n",
        "X_train = X_train/255\n",
        "X_val = X_val/255\n",
        "\n",
        "y_train = tf.keras.utils.to_categorical(y_train,NUM_CLASSES)\n",
        "y_val = tf.keras.utils.to_categorical(y_val, NUM_CLASSES)"
      ]
    },
    {
      "cell_type": "code",
      "execution_count": null,
      "metadata": {
        "colab": {
          "base_uri": "https://localhost:8080/"
        },
        "id": "fSsL5WYraRsM",
        "outputId": "a748c875-8d70-458f-f8ae-2085b5bddc4f"
      },
      "outputs": [
        {
          "name": "stdout",
          "output_type": "stream",
          "text": [
            "X_train (27446, 60, 60, 3)\n",
            "X_valid (11763, 60, 60, 3)\n",
            "y_train (27446, 43)\n",
            "y_valid (11763, 43)\n"
          ]
        }
      ],
      "source": [
        "print(\"X_train\", X_train.shape)\n",
        "print(\"X_valid\", X_val.shape)\n",
        "print(\"y_train\", y_train.shape)\n",
        "print(\"y_valid\", y_val.shape)"
      ]
    },
    {
      "cell_type": "markdown",
      "metadata": {
        "id": "KXXmHrYwa731"
      },
      "source": [
        "# VGG + Adam Optimizer"
      ]
    },
    {
      "cell_type": "code",
      "execution_count": null,
      "metadata": {
        "id": "krmJXzFybBmf"
      },
      "outputs": [],
      "source": [
        "learning_rate = 0.0003\n",
        "epochs = 15\n",
        "opt = Adam(learning_rate=learning_rate)"
      ]
    },
    {
      "cell_type": "code",
      "execution_count": null,
      "metadata": {
        "id": "K1tPTHPybGaE"
      },
      "outputs": [],
      "source": [
        "def test_acc():\n",
        "    test = pd.read_csv(data_dir + '/Test.csv')\n",
        "    labels = test[\"ClassId\"].values\n",
        "    imgs = test[\"Path\"].values\n",
        "    data =[]\n",
        "    for img in imgs:\n",
        "        try:\n",
        "            image = cv2.imread(data_dir + '/' +img)\n",
        "            image_fromarray = Image.fromarray(image,'RGB')\n",
        "            resize_image = image_fromarray.resize((IMG_HEIGHT, IMG_WIDTH))\n",
        "            data.append(np.array(resize_image))\n",
        "        except:\n",
        "            print(\"Error in \" + img)\n",
        "            \n",
        "    X_test = np.array(data)\n",
        "\n",
        "    X_test = X_test/255\n",
        "    \n",
        "    return X_test, labels"
      ]
    },
    {
      "cell_type": "code",
      "execution_count": null,
      "metadata": {
        "colab": {
          "base_uri": "https://localhost:8080/"
        },
        "id": "IdzJX5hkbuUz",
        "outputId": "28e3d9c1-59f3-4176-fe46-1c713792c894"
      },
      "outputs": [
        {
          "name": "stdout",
          "output_type": "stream",
          "text": [
            "0 input_7 - False\n",
            "1 block1_conv1 - False\n",
            "2 block1_conv2 - False\n",
            "3 block1_pool - False\n",
            "4 block2_conv1 - False\n",
            "5 block2_conv2 - False\n",
            "6 block2_pool - False\n",
            "7 block3_conv1 - False\n",
            "8 block3_conv2 - False\n",
            "9 block3_conv3 - False\n",
            "10 block3_conv4 - False\n",
            "11 block3_pool - False\n",
            "12 block4_conv1 - True\n",
            "13 block4_conv2 - True\n",
            "14 block4_conv3 - True\n",
            "15 block4_conv4 - True\n",
            "16 block4_pool - True\n",
            "17 block5_conv1 - True\n",
            "18 block5_conv2 - True\n",
            "19 block5_conv3 - True\n",
            "20 block5_conv4 - True\n",
            "21 block5_pool - True\n"
          ]
        }
      ],
      "source": [
        "# Get pretrained model\n",
        "\n",
        "pretrained_model= tf.keras.applications.VGG19(include_top=False,\n",
        "                   input_shape=(IMG_HEIGHT, IMG_WIDTH, 3),\n",
        "                   #pooling='avg',\n",
        "                   weights='imagenet')\n",
        "\n",
        "vgg_model_unfreeze_2block = Sequential()\n",
        "pretrained_model.trainable = True\n",
        "for layer in pretrained_model.layers[:12]:\n",
        "    layer.trainable = False\n",
        "    \n",
        "        \n",
        "#for layer in pretrained_model.layers[:-1]: # go through until last layer\n",
        "    #resnet_model.add(layer)\n",
        "    \n",
        "\n",
        "#resnet_model.add(tf.keras.layers.BatchNormalization(renorm=True))\n",
        "vgg_model_unfreeze_2block.add(pretrained_model)\n",
        "#resnet_model.add(tf.keras.layers.BatchNormalization())\n",
        "vgg_model_unfreeze_2block.add(Flatten())\n",
        "\n",
        "prediction_layer = tf.keras.layers.Dense(43, activation='softmax')\n",
        "vgg_model_unfreeze_2block.add(prediction_layer)\n",
        "\n",
        "#model.compile(optimizer='adam', loss='categorical_crossentropy')\n",
        "for i, layer in enumerate(pretrained_model.layers):\n",
        "        print(i, layer.name, \"-\", layer.trainable)"
      ]
    },
    {
      "cell_type": "code",
      "execution_count": null,
      "metadata": {
        "id": "OnQkL8Nzb3Pe"
      },
      "outputs": [],
      "source": [
        "aug = ImageDataGenerator(\n",
        "    horizontal_flip=True,width_shift_range=0.1,\n",
        "    height_shift_range=0.1,rotation_range=20,featurewise_center=True,\n",
        "    featurewise_std_normalization=True,shear_range=0.15\n",
        "    )"
      ]
    },
    {
      "cell_type": "code",
      "execution_count": null,
      "metadata": {
        "id": "BEtlgCyNb7AQ"
      },
      "outputs": [],
      "source": [
        "learning_rate = 0.0003\n",
        "epochs = 15\n",
        "opt = Adam(learning_rate=learning_rate)"
      ]
    },
    {
      "cell_type": "code",
      "execution_count": null,
      "metadata": {
        "colab": {
          "base_uri": "https://localhost:8080/"
        },
        "id": "1Eg4Gx3AcAZ1",
        "outputId": "cb71b0aa-68d4-4c25-93bf-4d798c8efc0b"
      },
      "outputs": [
        {
          "data": {
            "text/plain": [
              "18"
            ]
          },
          "execution_count": 153,
          "metadata": {},
          "output_type": "execute_result"
        }
      ],
      "source": [
        "# Compile model\n",
        "vgg_model_unfreeze_2block.compile(optimizer=opt,loss='categorical_crossentropy',metrics=['accuracy'])\n",
        "len(vgg_model_unfreeze_2block.trainable_variables)"
      ]
    },
    {
      "cell_type": "code",
      "execution_count": null,
      "metadata": {
        "id": "_3nSszf3hJyA"
      },
      "outputs": [],
      "source": [
        "vgg19_logdir = os.path.join(\"logs-VGG19\", datetime.datetime.now().strftime(\"%Y%m%d-%H%M%S\"))\n",
        "tensorboard_vgg19_callback = tf.keras.callbacks.TensorBoard(vgg19_logdir, histogram_freq=1)\n"
      ]
    },
    {
      "cell_type": "code",
      "execution_count": null,
      "metadata": {
        "colab": {
          "background_save": true,
          "base_uri": "https://localhost:8080/"
        },
        "id": "DPrqECbDcJkO",
        "outputId": "e95dbead-070d-4c8a-ec28-b213e8f326ea"
      },
      "outputs": [
        {
          "name": "stdout",
          "output_type": "stream",
          "text": [
            "Epoch 1/15\n",
            "215/215 [==============================] - 30s 136ms/step - loss: 0.9174 - accuracy: 0.7124 - val_loss: 0.3076 - val_accuracy: 0.8971\n",
            "Epoch 2/15\n",
            "215/215 [==============================] - 29s 137ms/step - loss: 0.1723 - accuracy: 0.9450 - val_loss: 0.2972 - val_accuracy: 0.9159\n",
            "Epoch 3/15\n",
            "215/215 [==============================] - 29s 134ms/step - loss: 0.1143 - accuracy: 0.9638 - val_loss: 0.0694 - val_accuracy: 0.9760\n",
            "Epoch 4/15\n",
            "215/215 [==============================] - 29s 135ms/step - loss: 0.0842 - accuracy: 0.9753 - val_loss: 0.1396 - val_accuracy: 0.9583\n",
            "Epoch 5/15\n",
            "215/215 [==============================] - 29s 135ms/step - loss: 0.0728 - accuracy: 0.9778 - val_loss: 0.0611 - val_accuracy: 0.9820\n",
            "Epoch 6/15\n",
            "215/215 [==============================] - 29s 135ms/step - loss: 0.0533 - accuracy: 0.9851 - val_loss: 0.0787 - val_accuracy: 0.9785\n",
            "Epoch 7/15\n",
            "215/215 [==============================] - 29s 135ms/step - loss: 0.0526 - accuracy: 0.9855 - val_loss: 0.0699 - val_accuracy: 0.9804\n",
            "Epoch 8/15\n",
            "215/215 [==============================] - 29s 135ms/step - loss: 0.0284 - accuracy: 0.9922 - val_loss: 0.0403 - val_accuracy: 0.9877\n",
            "Epoch 9/15\n",
            "215/215 [==============================] - 29s 135ms/step - loss: 0.0504 - accuracy: 0.9867 - val_loss: 0.2100 - val_accuracy: 0.9465\n",
            "Epoch 10/15\n",
            "215/215 [==============================] - 29s 134ms/step - loss: 0.0645 - accuracy: 0.9829 - val_loss: 0.0848 - val_accuracy: 0.9787\n",
            "Epoch 11/15\n",
            "215/215 [==============================] - 29s 135ms/step - loss: 0.0424 - accuracy: 0.9880 - val_loss: 0.0938 - val_accuracy: 0.9768\n",
            "Epoch 12/15\n",
            "215/215 [==============================] - 29s 135ms/step - loss: 0.0405 - accuracy: 0.9895 - val_loss: 0.0510 - val_accuracy: 0.9863\n",
            "Epoch 13/15\n",
            "215/215 [==============================] - 29s 135ms/step - loss: 0.0301 - accuracy: 0.9922 - val_loss: 0.0375 - val_accuracy: 0.9908\n",
            "Epoch 14/15\n",
            "215/215 [==============================] - 29s 135ms/step - loss: 0.0427 - accuracy: 0.9891 - val_loss: 0.0762 - val_accuracy: 0.9816\n",
            "Epoch 15/15\n",
            "215/215 [==============================] - 29s 134ms/step - loss: 0.0341 - accuracy: 0.9917 - val_loss: 0.0541 - val_accuracy: 0.9861\n"
          ]
        }
      ],
      "source": [
        "history = vgg_model_unfreeze_2block.fit(X_train, y_train, batch_size=128, epochs=epochs, validation_data=(X_val, y_val), callbacks=[tensorboard_vgg19_callback])"
      ]
    },
    {
      "cell_type": "code",
      "execution_count": null,
      "metadata": {
        "colab": {
          "background_save": true
        },
        "id": "myPoJOw2h94N",
        "outputId": "f2d2ff92-fd3b-4516-ef11-a4f745a4b3e7"
      },
      "outputs": [
        {
          "data": {
            "text/plain": [
              "Reusing TensorBoard on port 6006 (pid 2142), started 1:00:45 ago. (Use '!kill 2142' to kill it.)"
            ]
          },
          "metadata": {},
          "output_type": "display_data"
        },
        {
          "data": {
            "application/javascript": "\n        (async () => {\n            const url = new URL(await google.colab.kernel.proxyPort(6006, {'cache': true}));\n            url.searchParams.set('tensorboardColab', 'true');\n            const iframe = document.createElement('iframe');\n            iframe.src = url;\n            iframe.setAttribute('width', '100%');\n            iframe.setAttribute('height', '800');\n            iframe.setAttribute('frameborder', 0);\n            document.body.appendChild(iframe);\n        })();\n    ",
            "text/plain": [
              "<IPython.core.display.Javascript object>"
            ]
          },
          "metadata": {},
          "output_type": "display_data"
        }
      ],
      "source": [
        "%tensorboard --logdir \"logs-VGG19\""
      ]
    },
    {
      "cell_type": "code",
      "execution_count": null,
      "metadata": {
        "colab": {
          "background_save": true
        },
        "id": "4TEcrMvtdozK",
        "outputId": "4764dc79-e329-44b2-b342-d97f795eb646"
      },
      "outputs": [
        {
          "data": {
            "image/png": "[encoded data removed]",
            "text/plain": [
              "<Figure size 576x576 with 2 Axes>"
            ]
          },
          "metadata": {},
          "output_type": "display_data"
        }
      ],
      "source": [
        "acc = history.history['accuracy']\n",
        "val_acc = history.history['val_accuracy']\n",
        "\n",
        "loss = history.history['loss']\n",
        "val_loss = history.history['val_loss']\n",
        "\n",
        "plt.figure(figsize=(8, 8))\n",
        "plt.subplot(2, 1, 1)\n",
        "plt.plot(acc, label='Training Accuracy')\n",
        "plt.plot(val_acc, label='Validation Accuracy')\n",
        "plt.legend(loc='lower right')\n",
        "plt.ylabel('Accuracy')\n",
        "plt.ylim([min(plt.ylim()),1])\n",
        "plt.title('Training and Validation Accuracy')\n",
        "\n",
        "plt.subplot(2, 1, 2)\n",
        "plt.plot(loss, label='Training Loss')\n",
        "plt.plot(val_loss, label='Validation Loss')\n",
        "plt.legend(loc='upper right')\n",
        "plt.ylabel('Cross Entropy')\n",
        "plt.ylim([0,2.0])\n",
        "plt.title('Training and Validation Loss')\n",
        "plt.xlabel('epoch')\n",
        "plt.show()"
      ]
    },
    {
      "cell_type": "code",
      "execution_count": null,
      "metadata": {
        "colab": {
          "background_save": true
        },
        "id": "JgqJkvLjdsPO",
        "outputId": "bf431385-126d-4b2d-cf7f-627d22dfcd49"
      },
      "outputs": [
        {
          "name": "stdout",
          "output_type": "stream",
          "text": [
            "93.63420427553444\n"
          ]
        }
      ],
      "source": [
        "from sklearn.metrics import accuracy_score \n",
        "X_test, labels = test_acc()\n",
        "\n",
        "# predict\n",
        "pred_x = vgg_model_unfreeze_2block.predict(X_test)\n",
        "pred=np.argmax(pred_x,axis=1)\n",
        "    #Accuracy with the test data\n",
        "final_acc = accuracy_score(labels, pred)*100\n",
        "print(final_acc)"
      ]
    },
    {
      "cell_type": "code",
      "execution_count": null,
      "metadata": {
        "colab": {
          "background_save": true
        },
        "id": "UtuzrT2md1AA"
      },
      "outputs": [],
      "source": [
        "# Check batch of images\n",
        "\n",
        "\n",
        "#image_batch, label_batch = next(iter(X_train))\n",
        "#feature_batch = pretrained_model(image_batch)\n",
        "#print(feature_batch.shape)"
      ]
    },
    {
      "cell_type": "code",
      "execution_count": null,
      "metadata": {
        "colab": {
          "background_save": true
        },
        "id": "1S9NQtued4If",
        "outputId": "9598c5c7-6704-4eaa-a101-34bdfe03d605"
      },
      "outputs": [
        {
          "name": "stdout",
          "output_type": "stream",
          "text": [
            "0 input_7 - False\n",
            "1 block1_conv1 - False\n",
            "2 block1_conv2 - False\n",
            "3 block1_pool - False\n",
            "4 block2_conv1 - False\n",
            "5 block2_conv2 - False\n",
            "6 block2_pool - False\n",
            "7 block3_conv1 - False\n",
            "8 block3_conv2 - False\n",
            "9 block3_conv3 - False\n",
            "10 block3_conv4 - False\n",
            "11 block3_pool - False\n",
            "12 block4_conv1 - True\n",
            "13 block4_conv2 - True\n",
            "14 block4_conv3 - True\n",
            "15 block4_conv4 - True\n",
            "16 block4_pool - True\n",
            "17 block5_conv1 - True\n",
            "18 block5_conv2 - True\n",
            "19 block5_conv3 - True\n",
            "20 block5_conv4 - True\n",
            "21 block5_pool - True\n"
          ]
        }
      ],
      "source": [
        "# Check all blocks\n",
        "for i, layer in enumerate(pretrained_model.layers):\n",
        "        print(i, layer.name, \"-\", layer.trainable)"
      ]
    },
    {
      "cell_type": "code",
      "execution_count": null,
      "metadata": {
        "colab": {
          "background_save": true
        },
        "id": "zce-18lVd67_",
        "outputId": "ea258a51-2dff-4632-affd-d70325b5a353"
      },
      "outputs": [
        {
          "name": "stdout",
          "output_type": "stream",
          "text": [
            "Model: \"vgg19\"\n",
            "_________________________________________________________________\n",
            " Layer (type)                Output Shape              Param #   \n",
            "=================================================================\n",
            " input_7 (InputLayer)        [(None, 60, 60, 3)]       0         \n",
            "                                                                 \n",
            " block1_conv1 (Conv2D)       (None, 60, 60, 64)        1792      \n",
            "                                                                 \n",
            " block1_conv2 (Conv2D)       (None, 60, 60, 64)        36928     \n",
            "                                                                 \n",
            " block1_pool (MaxPooling2D)  (None, 30, 30, 64)        0         \n",
            "                                                                 \n",
            " block2_conv1 (Conv2D)       (None, 30, 30, 128)       73856     \n",
            "                                                                 \n",
            " block2_conv2 (Conv2D)       (None, 30, 30, 128)       147584    \n",
            "                                                                 \n",
            " block2_pool (MaxPooling2D)  (None, 15, 15, 128)       0         \n",
            "                                                                 \n",
            " block3_conv1 (Conv2D)       (None, 15, 15, 256)       295168    \n",
            "                                                                 \n",
            " block3_conv2 (Conv2D)       (None, 15, 15, 256)       590080    \n",
            "                                                                 \n",
            " block3_conv3 (Conv2D)       (None, 15, 15, 256)       590080    \n",
            "                                                                 \n",
            " block3_conv4 (Conv2D)       (None, 15, 15, 256)       590080    \n",
            "                                                                 \n",
            " block3_pool (MaxPooling2D)  (None, 7, 7, 256)         0         \n",
            "                                                                 \n",
            " block4_conv1 (Conv2D)       (None, 7, 7, 512)         1180160   \n",
            "                                                                 \n",
            " block4_conv2 (Conv2D)       (None, 7, 7, 512)         2359808   \n",
            "                                                                 \n",
            " block4_conv3 (Conv2D)       (None, 7, 7, 512)         2359808   \n",
            "                                                                 \n",
            " block4_conv4 (Conv2D)       (None, 7, 7, 512)         2359808   \n",
            "                                                                 \n",
            " block4_pool (MaxPooling2D)  (None, 3, 3, 512)         0         \n",
            "                                                                 \n",
            " block5_conv1 (Conv2D)       (None, 3, 3, 512)         2359808   \n",
            "                                                                 \n",
            " block5_conv2 (Conv2D)       (None, 3, 3, 512)         2359808   \n",
            "                                                                 \n",
            " block5_conv3 (Conv2D)       (None, 3, 3, 512)         2359808   \n",
            "                                                                 \n",
            " block5_conv4 (Conv2D)       (None, 3, 3, 512)         2359808   \n",
            "                                                                 \n",
            " block5_pool (MaxPooling2D)  (None, 1, 1, 512)         0         \n",
            "                                                                 \n",
            "=================================================================\n",
            "Total params: 20,024,384\n",
            "Trainable params: 17,698,816\n",
            "Non-trainable params: 2,325,568\n",
            "_________________________________________________________________\n"
          ]
        }
      ],
      "source": [
        "pretrained_model.summary()"
      ]
    },
    {
      "cell_type": "markdown",
      "metadata": {
        "id": "ecRkoD0xeR9P"
      },
      "source": [
        "# Resnet with VGG baseline"
      ]
    },
    {
      "cell_type": "code",
      "execution_count": null,
      "metadata": {
        "colab": {
          "background_save": true
        },
        "id": "9IIv7Vtyd82y"
      },
      "outputs": [],
      "source": [
        "# Add classificaiton head \n",
        "\n",
        "# Add global avarage pooling (instead of Flatten())\n",
        "global_average_layer = tf.keras.layers.GlobalAveragePooling2D()\n",
        "#feature_batch_average = global_average_layer(feature_batch)\n",
        "#print(feature_batch_average.shape)\n",
        "\n",
        "# Add Dense layers\n",
        "dense_layer256 = tf.keras.layers.Dense(256, activation='relu')\n",
        "dense_layer512 = tf.keras.layers.Dense(512, activation='relu')\n",
        "dense_layer1028 = tf.keras.layers.Dense(1028, activation='relu')\n",
        "prediction_layer = tf.keras.layers.Dense(43, activation='softmax')\n",
        "#prediction_batch = prediction_layer(feature_batch_average)\n",
        "#print(prediction_batch.shape)"
      ]
    },
    {
      "cell_type": "code",
      "execution_count": null,
      "metadata": {
        "colab": {
          "background_save": true
        },
        "id": "EZx18QWreBtC"
      },
      "outputs": [],
      "source": [
        "# Build model\n",
        "\n",
        "pretrained_model= tf.keras.applications.VGG19(include_top=False,\n",
        "                   input_shape=(IMG_HEIGHT, IMG_WIDTH, 3),\n",
        "                   #pooling='avg',\n",
        "                   weights='imagenet')\n",
        "\n",
        "vgg_model_unfreeze_2block = Sequential()\n",
        "pretrained_model.trainable = True\n",
        "for layer in pretrained_model.layers[:12]:\n",
        "    layer.trainable = False\n"
      ]
    },
    {
      "cell_type": "code",
      "execution_count": null,
      "metadata": {
        "colab": {
          "background_save": true
        },
        "id": "wOXIZLmeeCnC"
      },
      "outputs": [],
      "source": [
        "resnet_model = tf.keras.Sequential([\n",
        "        pretrained_model,  \n",
        "        tf.keras.layers.BatchNormalization(renorm=True),\n",
        "        tf.keras.layers.Flatten(),\n",
        "        tf.keras.layers.Dense(512, activation='relu'),\n",
        "        tf.keras.layers.Dense(256, activation='relu'),\n",
        "        tf.keras.layers.Dropout(0.5),\n",
        "        tf.keras.layers.Dense(128, activation='relu'),\n",
        "        tf.keras.layers.Dense(43, activation='softmax')\n",
        "    ])"
      ]
    },
    {
      "cell_type": "code",
      "execution_count": null,
      "metadata": {
        "colab": {
          "background_save": true
        },
        "id": "CLE9iimHeHxP",
        "outputId": "5cb045a4-050b-4e76-f3ff-0ffa2d367d88"
      },
      "outputs": [
        {
          "name": "stdout",
          "output_type": "stream",
          "text": [
            "0 input_8 - False\n",
            "1 block1_conv1 - False\n",
            "2 block1_conv2 - False\n",
            "3 block1_pool - False\n",
            "4 block2_conv1 - False\n",
            "5 block2_conv2 - False\n",
            "6 block2_pool - False\n",
            "7 block3_conv1 - False\n",
            "8 block3_conv2 - False\n",
            "9 block3_conv3 - False\n",
            "10 block3_conv4 - False\n",
            "11 block3_pool - False\n",
            "12 block4_conv1 - True\n",
            "13 block4_conv2 - True\n",
            "14 block4_conv3 - True\n",
            "15 block4_conv4 - True\n",
            "16 block4_pool - True\n",
            "17 block5_conv1 - True\n",
            "18 block5_conv2 - True\n",
            "19 block5_conv3 - True\n",
            "20 block5_conv4 - True\n",
            "21 block5_pool - True\n",
            "final model\n",
            "0 vgg19 - True\n",
            "1 batch_normalization_2 - True\n",
            "2 flatten_5 - True\n",
            "3 dense_27 - True\n",
            "4 dense_28 - True\n",
            "5 dropout_4 - True\n",
            "6 dense_29 - True\n",
            "7 dense_30 - True\n"
          ]
        }
      ],
      "source": [
        "\n",
        "for i, layer in enumerate(pretrained_model.layers):\n",
        "        print(i, layer.name, \"-\", layer.trainable)\n",
        "        \n",
        "print('final model')\n",
        "for i, layer in enumerate(resnet_model.layers):\n",
        "        print(i, layer.name, \"-\", layer.trainable)\n"
      ]
    },
    {
      "cell_type": "code",
      "execution_count": null,
      "metadata": {
        "colab": {
          "background_save": true
        },
        "id": "Wn5-drKheIz3"
      },
      "outputs": [],
      "source": [
        "learning_rate = 0.0001\n",
        "epochs = 10\n",
        "opt = Adam(learning_rate=learning_rate, decay=learning_rate / (epochs * 0.5))"
      ]
    },
    {
      "cell_type": "code",
      "execution_count": null,
      "metadata": {
        "colab": {
          "background_save": true
        },
        "id": "ACeAc86reM1N"
      },
      "outputs": [],
      "source": [
        "aug = ImageDataGenerator(\n",
        " rotation_range=10,\n",
        " zoom_range=0.15,\n",
        " width_shift_range=0.1,\n",
        " height_shift_range=0.1,\n",
        " shear_range=0.15,\n",
        " horizontal_flip=False,\n",
        " vertical_flip=False,\n",
        " fill_mode=\"nearest\"\n",
        " )\n"
      ]
    },
    {
      "cell_type": "code",
      "execution_count": null,
      "metadata": {
        "colab": {
          "background_save": true
        },
        "id": "6_vlxP54eYNZ"
      },
      "outputs": [],
      "source": [
        "# Compile model\n",
        "resnet_model.compile(optimizer=opt,loss='categorical_crossentropy',metrics=['accuracy'])"
      ]
    },
    {
      "cell_type": "code",
      "execution_count": null,
      "metadata": {
        "colab": {
          "background_save": true
        },
        "id": "JqfLkaCjeb9z",
        "outputId": "fe510b64-5f43-48fd-f19c-996aa4f445de"
      },
      "outputs": [
        {
          "name": "stdout",
          "output_type": "stream",
          "text": [
            "Model: \"sequential_8\"\n",
            "_________________________________________________________________\n",
            " Layer (type)                Output Shape              Param #   \n",
            "=================================================================\n",
            " vgg19 (Functional)          (None, 1, 1, 512)         20024384  \n",
            "                                                                 \n",
            " batch_normalization_2 (Batc  (None, 1, 1, 512)        3584      \n",
            " hNormalization)                                                 \n",
            "                                                                 \n",
            " flatten_5 (Flatten)         (None, 512)               0         \n",
            "                                                                 \n",
            " dense_27 (Dense)            (None, 512)               262656    \n",
            "                                                                 \n",
            " dense_28 (Dense)            (None, 256)               131328    \n",
            "                                                                 \n",
            " dropout_4 (Dropout)         (None, 256)               0         \n",
            "                                                                 \n",
            " dense_29 (Dense)            (None, 128)               32896     \n",
            "                                                                 \n",
            " dense_30 (Dense)            (None, 43)                5547      \n",
            "                                                                 \n",
            "=================================================================\n",
            "Total params: 20,460,395\n",
            "Trainable params: 18,132,267\n",
            "Non-trainable params: 2,328,128\n",
            "_________________________________________________________________\n"
          ]
        }
      ],
      "source": [
        "resnet_model.summary()"
      ]
    },
    {
      "cell_type": "code",
      "execution_count": null,
      "metadata": {
        "colab": {
          "background_save": true
        },
        "id": "lUD8nf_7qTY2"
      },
      "outputs": [],
      "source": [
        "resnet_logdir = os.path.join(\"logs-resnet\", datetime.datetime.now().strftime(\"%Y%m%d-%H%M%S\"))\n",
        "tensorboard_resnet_callback = tf.keras.callbacks.TensorBoard(resnet_logdir, histogram_freq=1)"
      ]
    },
    {
      "cell_type": "code",
      "execution_count": null,
      "metadata": {
        "colab": {
          "background_save": true
        },
        "id": "Doty5T43edF4",
        "outputId": "27855437-d32c-4fb0-f2c0-7b0461c08f40"
      },
      "outputs": [
        {
          "name": "stdout",
          "output_type": "stream",
          "text": [
            "Epoch 1/10\n",
            "108/108 [==============================] - 30s 266ms/step - loss: 1.8403 - accuracy: 0.5559 - val_loss: 0.3935 - val_accuracy: 0.9130\n",
            "Epoch 2/10\n",
            "108/108 [==============================] - 27s 255ms/step - loss: 0.2455 - accuracy: 0.9466 - val_loss: 0.0910 - val_accuracy: 0.9716\n",
            "Epoch 3/10\n",
            "108/108 [==============================] - 27s 254ms/step - loss: 0.1003 - accuracy: 0.9743 - val_loss: 0.0463 - val_accuracy: 0.9855\n",
            "Epoch 4/10\n",
            "108/108 [==============================] - 27s 254ms/step - loss: 0.0621 - accuracy: 0.9823 - val_loss: 0.0570 - val_accuracy: 0.9852\n",
            "Epoch 5/10\n",
            "108/108 [==============================] - 28s 255ms/step - loss: 0.0421 - accuracy: 0.9894 - val_loss: 0.0375 - val_accuracy: 0.9888\n",
            "Epoch 6/10\n",
            "108/108 [==============================] - 27s 254ms/step - loss: 0.0295 - accuracy: 0.9918 - val_loss: 0.0385 - val_accuracy: 0.9901\n",
            "Epoch 7/10\n",
            "108/108 [==============================] - 27s 254ms/step - loss: 0.0263 - accuracy: 0.9925 - val_loss: 0.0275 - val_accuracy: 0.9923\n",
            "Epoch 8/10\n",
            "108/108 [==============================] - 27s 254ms/step - loss: 0.0227 - accuracy: 0.9945 - val_loss: 0.0299 - val_accuracy: 0.9921\n",
            "Epoch 9/10\n",
            "108/108 [==============================] - 28s 256ms/step - loss: 0.0184 - accuracy: 0.9952 - val_loss: 0.0151 - val_accuracy: 0.9953\n",
            "Epoch 10/10\n",
            "108/108 [==============================] - 27s 254ms/step - loss: 0.0123 - accuracy: 0.9971 - val_loss: 0.0198 - val_accuracy: 0.9945\n"
          ]
        }
      ],
      "source": [
        "history = resnet_model.fit(X_train, y_train, batch_size=256, epochs=epochs, validation_data=(X_val, y_val), callbacks=[tensorboard_resnet_callback])"
      ]
    },
    {
      "cell_type": "code",
      "execution_count": null,
      "metadata": {
        "colab": {
          "background_save": true
        },
        "id": "nc6tpwIvqRHh",
        "outputId": "96e96ff9-b89b-4ddf-a7b4-8aa479ac1bdd"
      },
      "outputs": [
        {
          "data": {
            "text/plain": [
              "Reusing TensorBoard on port 6007 (pid 2345), started 0:59:47 ago. (Use '!kill 2345' to kill it.)"
            ]
          },
          "metadata": {},
          "output_type": "display_data"
        },
        {
          "data": {
            "application/javascript": "\n        (async () => {\n            const url = new URL(await google.colab.kernel.proxyPort(6007, {'cache': true}));\n            url.searchParams.set('tensorboardColab', 'true');\n            const iframe = document.createElement('iframe');\n            iframe.src = url;\n            iframe.setAttribute('width', '100%');\n            iframe.setAttribute('height', '800');\n            iframe.setAttribute('frameborder', 0);\n            document.body.appendChild(iframe);\n        })();\n    ",
            "text/plain": [
              "<IPython.core.display.Javascript object>"
            ]
          },
          "metadata": {},
          "output_type": "display_data"
        }
      ],
      "source": [
        "%tensorboard --logdir \"logs-resnet\""
      ]
    },
    {
      "cell_type": "code",
      "execution_count": null,
      "metadata": {
        "colab": {
          "background_save": true
        },
        "id": "SSAKb8kCejW7",
        "outputId": "e57bc224-16f4-4e38-998a-699349fcf42f"
      },
      "outputs": [
        {
          "data": {
            "image/png": "[encoded data removed]",
            "text/plain": [
              "<Figure size 576x576 with 2 Axes>"
            ]
          },
          "metadata": {},
          "output_type": "display_data"
        }
      ],
      "source": [
        "acc = history.history['accuracy']\n",
        "val_acc = history.history['val_accuracy']\n",
        "\n",
        "loss = history.history['loss']\n",
        "val_loss = history.history['val_loss']\n",
        "\n",
        "plt.figure(figsize=(8, 8))\n",
        "plt.subplot(2, 1, 1)\n",
        "plt.plot(acc, label='Training Accuracy')\n",
        "plt.plot(val_acc, label='Validation Accuracy')\n",
        "plt.legend(loc='lower right')\n",
        "plt.ylabel('Accuracy')\n",
        "plt.ylim([min(plt.ylim()),1])\n",
        "plt.title('Training and Validation Accuracy')\n",
        "\n",
        "plt.subplot(2, 1, 2)\n",
        "plt.plot(loss, label='Training Loss')\n",
        "plt.plot(val_loss, label='Validation Loss')\n",
        "plt.legend(loc='upper right')\n",
        "plt.ylabel('Cross Entropy')\n",
        "plt.ylim([0,1.0])\n",
        "plt.title('Training and Validation Loss')\n",
        "plt.xlabel('epoch')\n",
        "plt.show()"
      ]
    },
    {
      "cell_type": "code",
      "execution_count": null,
      "metadata": {
        "colab": {
          "background_save": true
        },
        "id": "Y0sxYJkeekBi"
      },
      "outputs": [],
      "source": [
        "def test_acc():\n",
        "    test = pd.read_csv(data_dir + '/Test.csv')\n",
        "    labels = test[\"ClassId\"].values\n",
        "    imgs = test[\"Path\"].values\n",
        "    data =[]\n",
        "    for img in imgs:\n",
        "        try:\n",
        "            image = cv2.imread(data_dir + '/' +img)\n",
        "            image_fromarray = Image.fromarray(image,'RGB')\n",
        "            resize_image = image_fromarray.resize((IMG_HEIGHT, IMG_WIDTH))\n",
        "            data.append(np.array(resize_image))\n",
        "        except:\n",
        "            print(\"Error in \" + img)\n",
        "            \n",
        "    X_test = np.array(data)\n",
        "\n",
        "    X_test = X_test/255\n",
        "    \n",
        "    return X_test, labels"
      ]
    },
    {
      "cell_type": "code",
      "execution_count": null,
      "metadata": {
        "colab": {
          "background_save": true
        },
        "id": "vg_hDFB7enjs",
        "outputId": "1f92f3df-7f97-452d-a461-09385096fa06"
      },
      "outputs": [
        {
          "name": "stdout",
          "output_type": "stream",
          "text": [
            "93.89548693586698\n"
          ]
        }
      ],
      "source": [
        "X_test, labels = test_acc()\n",
        "\n",
        "# predict\n",
        "pred_x = resnet_model.predict(X_test)\n",
        "pred=np.argmax(pred_x,axis=1)\n",
        "\n",
        "#Accuracy with the test data\n",
        "final_acc = accuracy_score(labels, pred)*100\n",
        "print(final_acc)"
      ]
    },
    {
      "cell_type": "markdown",
      "metadata": {
        "id": "rEukBIi_hf0C"
      },
      "source": [
        "# EfficientNet"
      ]
    },
    {
      "cell_type": "code",
      "execution_count": null,
      "metadata": {
        "colab": {
          "background_save": true
        },
        "id": "nnhazBcZh3WB"
      },
      "outputs": [],
      "source": [
        "!pip install efficientnet --quiet"
      ]
    },
    {
      "cell_type": "code",
      "execution_count": null,
      "metadata": {
        "colab": {
          "background_save": true
        },
        "id": "FsPvDy5nhkQF"
      },
      "outputs": [],
      "source": [
        "from efficientnet.tfkeras import EfficientNetB0\n",
        "base_model_efn = EfficientNetB0(include_top=False,weights=\"imagenet\",input_shape=(IMG_HEIGHT, IMG_WIDTH, 3), pooling='max')"
      ]
    },
    {
      "cell_type": "code",
      "execution_count": null,
      "metadata": {
        "colab": {
          "background_save": true
        },
        "id": "7SM1rbqMimfZ"
      },
      "outputs": [],
      "source": [
        "x_efn=base_model_efn.output\n",
        "base_model_efn.trainable=False"
      ]
    },
    {
      "cell_type": "code",
      "execution_count": null,
      "metadata": {
        "colab": {
          "background_save": true
        },
        "id": "z-8EkiO5inmw"
      },
      "outputs": [],
      "source": [
        "from tensorflow.keras.models import Model\n",
        "\n",
        "x_efn=Dense(256,activation='relu')(x_efn)\n",
        "x_efn=Dropout(rate=.45,seed=123)(x_efn)   \n",
        "output_efn=Dense(NUM_CLASSES,activation='softmax')(x_efn)\n",
        "model_efn=Model(inputs=base_model_efn.input,outputs=output_efn)\n",
        "model_efn.compile(Adam(learning_rate=.001),loss='categorical_crossentropy',metrics=['accuracy'])"
      ]
    },
    {
      "cell_type": "code",
      "execution_count": null,
      "metadata": {
        "colab": {
          "background_save": true
        },
        "id": "Df5tsBPDiRN1",
        "outputId": "e29288ca-5ac8-479b-8dc8-e4e0e040f411"
      },
      "outputs": [
        {
          "name": "stdout",
          "output_type": "stream",
          "text": [
            "Epoch 1/30\n",
            "858/858 [==============================] - 23s 21ms/step - loss: 1.7361 - accuracy: 0.4762 - val_loss: 1.0245 - val_accuracy: 0.6797 - lr: 0.0010\n",
            "Epoch 2/30\n",
            "858/858 [==============================] - 16s 19ms/step - loss: 1.1351 - accuracy: 0.6307 - val_loss: 0.7703 - val_accuracy: 0.7514 - lr: 0.0010\n",
            "Epoch 3/30\n",
            "858/858 [==============================] - 16s 19ms/step - loss: 0.9531 - accuracy: 0.6861 - val_loss: 0.6642 - val_accuracy: 0.7862 - lr: 0.0010\n",
            "Epoch 4/30\n",
            "858/858 [==============================] - 16s 19ms/step - loss: 0.8424 - accuracy: 0.7217 - val_loss: 0.6002 - val_accuracy: 0.8081 - lr: 0.0010\n",
            "Epoch 5/30\n",
            "858/858 [==============================] - 16s 19ms/step - loss: 0.7700 - accuracy: 0.7440 - val_loss: 0.5312 - val_accuracy: 0.8318 - lr: 0.0010\n",
            "Epoch 6/30\n",
            "858/858 [==============================] - 16s 19ms/step - loss: 0.7166 - accuracy: 0.7605 - val_loss: 0.4877 - val_accuracy: 0.8374 - lr: 0.0010\n",
            "Epoch 7/30\n",
            "858/858 [==============================] - 16s 19ms/step - loss: 0.6757 - accuracy: 0.7732 - val_loss: 0.4573 - val_accuracy: 0.8478 - lr: 0.0010\n",
            "Epoch 8/30\n",
            "858/858 [==============================] - 16s 18ms/step - loss: 0.6455 - accuracy: 0.7836 - val_loss: 0.4246 - val_accuracy: 0.8643 - lr: 0.0010\n",
            "Epoch 9/30\n",
            "858/858 [==============================] - 16s 19ms/step - loss: 0.6094 - accuracy: 0.7969 - val_loss: 0.4049 - val_accuracy: 0.8693 - lr: 0.0010\n",
            "Epoch 10/30\n",
            "858/858 [==============================] - 17s 19ms/step - loss: 0.5856 - accuracy: 0.8018 - val_loss: 0.3827 - val_accuracy: 0.8735 - lr: 0.0010\n",
            "Epoch 11/30\n",
            "858/858 [==============================] - 16s 19ms/step - loss: 0.5646 - accuracy: 0.8123 - val_loss: 0.3815 - val_accuracy: 0.8769 - lr: 0.0010\n",
            "Epoch 12/30\n",
            "858/858 [==============================] - 16s 19ms/step - loss: 0.5502 - accuracy: 0.8149 - val_loss: 0.3553 - val_accuracy: 0.8857 - lr: 0.0010\n",
            "Epoch 13/30\n",
            "855/858 [============================>.] - ETA: 0s - loss: 0.5307 - accuracy: 0.8228\n",
            "Epoch 13: ReduceLROnPlateau reducing learning rate to 0.0005000000237487257.\n",
            "858/858 [==============================] - 16s 18ms/step - loss: 0.5307 - accuracy: 0.8228 - val_loss: 0.3584 - val_accuracy: 0.8848 - lr: 0.0010\n",
            "Epoch 14/30\n",
            "858/858 [==============================] - 16s 19ms/step - loss: 0.4501 - accuracy: 0.8489 - val_loss: 0.2942 - val_accuracy: 0.9045 - lr: 5.0000e-04\n",
            "Epoch 15/30\n",
            "858/858 [==============================] - 16s 19ms/step - loss: 0.4149 - accuracy: 0.8609 - val_loss: 0.2887 - val_accuracy: 0.9100 - lr: 5.0000e-04\n",
            "Epoch 16/30\n",
            "858/858 [==============================] - 16s 19ms/step - loss: 0.4105 - accuracy: 0.8622 - val_loss: 0.2760 - val_accuracy: 0.9121 - lr: 5.0000e-04\n",
            "Epoch 17/30\n",
            "858/858 [==============================] - ETA: 0s - loss: 0.4001 - accuracy: 0.8667\n",
            "Epoch 17: ReduceLROnPlateau reducing learning rate to 0.0002500000118743628.\n",
            "858/858 [==============================] - 16s 18ms/step - loss: 0.4001 - accuracy: 0.8667 - val_loss: 0.2775 - val_accuracy: 0.9114 - lr: 5.0000e-04\n",
            "Epoch 18/30\n",
            "858/858 [==============================] - 16s 19ms/step - loss: 0.3569 - accuracy: 0.8810 - val_loss: 0.2551 - val_accuracy: 0.9178 - lr: 2.5000e-04\n",
            "Epoch 19/30\n",
            "858/858 [==============================] - 16s 18ms/step - loss: 0.3515 - accuracy: 0.8851 - val_loss: 0.2443 - val_accuracy: 0.9231 - lr: 2.5000e-04\n",
            "Epoch 20/30\n",
            "858/858 [==============================] - 16s 18ms/step - loss: 0.3411 - accuracy: 0.8860 - val_loss: 0.2435 - val_accuracy: 0.9230 - lr: 2.5000e-04\n",
            "Epoch 21/30\n",
            "858/858 [==============================] - 16s 19ms/step - loss: 0.3388 - accuracy: 0.8874 - val_loss: 0.2391 - val_accuracy: 0.9254 - lr: 2.5000e-04\n",
            "Epoch 22/30\n",
            "858/858 [==============================] - 16s 19ms/step - loss: 0.3279 - accuracy: 0.8921 - val_loss: 0.2344 - val_accuracy: 0.9268 - lr: 2.5000e-04\n",
            "Epoch 23/30\n",
            "856/858 [============================>.] - ETA: 0s - loss: 0.3236 - accuracy: 0.8930\n",
            "Epoch 23: ReduceLROnPlateau reducing learning rate to 0.0001250000059371814.\n",
            "858/858 [==============================] - 16s 18ms/step - loss: 0.3234 - accuracy: 0.8930 - val_loss: 0.2353 - val_accuracy: 0.9254 - lr: 2.5000e-04\n",
            "Epoch 24/30\n",
            "858/858 [==============================] - 16s 19ms/step - loss: 0.3071 - accuracy: 0.8994 - val_loss: 0.2259 - val_accuracy: 0.9281 - lr: 1.2500e-04\n",
            "Epoch 25/30\n",
            "858/858 [==============================] - 16s 19ms/step - loss: 0.3014 - accuracy: 0.9015 - val_loss: 0.2229 - val_accuracy: 0.9312 - lr: 1.2500e-04\n",
            "Epoch 26/30\n",
            "858/858 [==============================] - 16s 19ms/step - loss: 0.3017 - accuracy: 0.9025 - val_loss: 0.2186 - val_accuracy: 0.9317 - lr: 1.2500e-04\n",
            "Epoch 27/30\n",
            "858/858 [==============================] - 16s 19ms/step - loss: 0.3007 - accuracy: 0.9029 - val_loss: 0.2157 - val_accuracy: 0.9342 - lr: 1.2500e-04\n",
            "Epoch 28/30\n",
            "857/858 [============================>.] - ETA: 0s - loss: 0.2932 - accuracy: 0.9029\n",
            "Epoch 28: ReduceLROnPlateau reducing learning rate to 6.25000029685907e-05.\n",
            "858/858 [==============================] - 16s 18ms/step - loss: 0.2931 - accuracy: 0.9029 - val_loss: 0.2179 - val_accuracy: 0.9337 - lr: 1.2500e-04\n",
            "Epoch 29/30\n",
            "858/858 [==============================] - 16s 19ms/step - loss: 0.2932 - accuracy: 0.9053 - val_loss: 0.2127 - val_accuracy: 0.9339 - lr: 6.2500e-05\n",
            "Epoch 30/30\n",
            "858/858 [==============================] - 16s 19ms/step - loss: 0.2907 - accuracy: 0.9029 - val_loss: 0.2110 - val_accuracy: 0.9343 - lr: 6.2500e-05\n"
          ]
        }
      ],
      "source": [
        "epochs=30\n",
        "logdir_efn = os.path.join(\"logs-efficientnet\", datetime.datetime.now().strftime(\"%Y%m%d-%H%M%S\"))\n",
        "tensorboard_callback_efn = tf.keras.callbacks.TensorBoard(logdir_efn, histogram_freq=1)\n",
        "rlronp_efn=tf.keras.callbacks.ReduceLROnPlateau(monitor=\"val_loss\",factor=0.5,patience=1,verbose=1)\n",
        "estop_efn=tf.keras.callbacks.EarlyStopping( monitor=\"val_loss\",patience=3,verbose=1,restore_best_weights=True)\n",
        "history_efn=model_efn.fit(\n",
        "    x=X_train, \n",
        "    y=y_train, \n",
        "    epochs=epochs, \n",
        "    verbose=1, \n",
        "    validation_data=(X_val, y_val), \n",
        "    callbacks=[rlronp_efn, estop_efn, tensorboard_callback_efn], \n",
        "    shuffle=True, \n",
        "    initial_epoch=0\n",
        ")"
      ]
    },
    {
      "cell_type": "code",
      "execution_count": null,
      "metadata": {
        "id": "_P8z-eRznVR0"
      },
      "outputs": [],
      "source": [
        "%tensorboard --logdir \"logs-efficientnet\""
      ]
    }
  ],
  "metadata": {
    "accelerator": "GPU",
    "colab": {
      "collapsed_sections": [],
      "machine_shape": "hm",
      "provenance": []
    },
    "gpuClass": "standard",
    "kernelspec": {
      "display_name": "Python 3.9.13 64-bit",
      "language": "python",
      "name": "python3"
    },
    "language_info": {
      "codemirror_mode": {
        "name": "ipython",
        "version": 3
      },
      "file_extension": ".py",
      "mimetype": "text/x-python",
      "name": "python",
      "nbconvert_exporter": "python",
      "pygments_lexer": "ipython3",
      "version": "3.9.13"
    },
    "vscode": {
      "interpreter": {
        "hash": "63238b14b94c5e52907d26bc8f107d3da00e4fdd6d223723aab1caf879a8a9ff"
      }
    }
  },
  "nbformat": 4,
  "nbformat_minor": 0
}
